{
  "nbformat": 4,
  "nbformat_minor": 0,
  "metadata": {
    "colab": {
      "name": "Copy of Self Learning_Container.ipynb",
      "provenance": [],
      "collapsed_sections": [],
      "include_colab_link": true
    },
    "kernelspec": {
      "name": "python3",
      "display_name": "Python 3"
    },
    "language_info": {
      "name": "python"
    }
  },
  "cells": [
    {
      "cell_type": "markdown",
      "metadata": {
        "id": "view-in-github",
        "colab_type": "text"
      },
      "source": [
        "<a href=\"https://colab.research.google.com/github/rhrjobdi/AI-4-Jobs/blob/main/Self_Learning_Container.ipynb\" target=\"_parent\"><img src=\"https://colab.research.google.com/assets/colab-badge.svg\" alt=\"Open In Colab\"/></a>"
      ]
    },
    {
      "cell_type": "markdown",
      "source": [
        "Mencetak Dictionary\n"
      ],
      "metadata": {
        "id": "D4YPO6SGQN8s"
      }
    },
    {
      "cell_type": "code",
      "execution_count": null,
      "metadata": {
        "colab": {
          "base_uri": "https://localhost:8080/"
        },
        "id": "xm5BwBc_K-hY",
        "outputId": "c1ebdced-b14d-4086-8f07-a2c7e61febc6"
      },
      "outputs": [
        {
          "output_type": "stream",
          "name": "stdout",
          "text": [
            "[{'NIK': '1990022', 'Nama': 'Herman', 'Jenis Kelamin': 'L', 'Alamat': 'Tanggerang', 'Divisi': 'Machinery', 'Jabatan': 'Manager', 'Gaji Pokok': '10000000'}, {'NIK': '2001077', 'Nama': 'Badar', 'Jenis Kelamin': 'L', 'Alamat': 'Bekasi', 'Divisi': '', 'Jabatan': '', 'Gaji Pokok': '7500000'}, {'NIK': '2002019', 'Nama': 'Clara', 'Jenis Kelamin': 'P', 'Alamat': 'Depok', 'Divisi': 'Compresor', 'Jabatan': 'Staff', 'Gaji Pokok': '7000000'}, {'NIK': '2002081', 'Nama': 'Rista', 'Jenis Kelamin': 'P', 'Alamat': 'Bekasi', 'Divisi': 'QC', 'Jabatan': 'Staff', 'Gaji Pokok': '6500000'}, {'NIK': '2005099', 'Nama': 'Riani', 'Jenis Kelamin': 'P', 'Alamat': 'Bekasi', 'Divisi': 'QC', 'Jabatan': 'Operator', 'Gaji Pokok': '6000000'}, {'NIK': '2006003', 'Nama': 'Afif', 'Jenis Kelamin': 'L', 'Alamat': 'Karawang', 'Divisi': 'Compessor', 'Jabatan': 'Operator', 'Gaji Pokok': '5500000'}, {'NIK': '2006104', 'Nama': 'Riven', 'Jenis Kelamin': 'L', 'Alamat': 'Tanggerang', 'Divisi': 'Compessor', 'Jabatan': 'Operator', 'Gaji Pokok': '5500000'}, {'NIK': '2008160', 'Nama': 'Endah', 'Jenis Kelamin': 'P', 'Alamat': 'Jakarta', 'Divisi': 'Machinery', 'Jabatan': 'Operator', 'Gaji Pokok': '5000000'}]\n"
          ]
        }
      ],
      "source": [
        "Data = [{\"NIK\" : \"1990022\", \"Nama\" : \"Herman\", \"Jenis Kelamin\" : \"L\", \"Alamat\" : \"Tanggerang\", \"Divisi\" : \"Machinery\", \"Jabatan\" : \"Manager\", \"Gaji Pokok\" : \"10000000\"},\n",
        "        {\"NIK\" : \"2001077\", \"Nama\" : \"Badar\", \"Jenis Kelamin\" : \"L\", \"Alamat\" : \"Bekasi\", \"Divisi\" : \"\", \"Jabatan\" : \"\", \"Gaji Pokok\" : \"7500000\"},\n",
        "        {\"NIK\" : \"2002019\", \"Nama\" : \"Clara\", \"Jenis Kelamin\" : \"P\", \"Alamat\" : \"Depok\", \"Divisi\" : \"Compresor\", \"Jabatan\" : \"Staff\", \"Gaji Pokok\" : \"7000000\"},\n",
        "        {\"NIK\" : \"2002081\", \"Nama\" : \"Rista\", \"Jenis Kelamin\" : \"P\", \"Alamat\" : \"Bekasi\", \"Divisi\" : \"QC\", \"Jabatan\" : \"Staff\", \"Gaji Pokok\" : \"6500000\"},\n",
        "        {\"NIK\" : \"2005099\", \"Nama\" : \"Riani\", \"Jenis Kelamin\" : \"P\", \"Alamat\" : \"Bekasi\", \"Divisi\" : \"QC\", \"Jabatan\" : \"Operator\", \"Gaji Pokok\" : \"6000000\"},\n",
        "        {\"NIK\" : \"2006003\", \"Nama\" : \"Afif\", \"Jenis Kelamin\" : \"L\", \"Alamat\" : \"Karawang\", \"Divisi\" : \"Compessor\", \"Jabatan\" : \"Operator\", \"Gaji Pokok\" : \"5500000\"},\n",
        "        {\"NIK\" : \"2006104\", \"Nama\" : \"Riven\", \"Jenis Kelamin\" : \"L\", \"Alamat\" : \"Tanggerang\", \"Divisi\" : \"Compessor\", \"Jabatan\" : \"Operator\", \"Gaji Pokok\" : \"5500000\"},\n",
        "        {\"NIK\" : \"2008160\", \"Nama\" : \"Endah\", \"Jenis Kelamin\" : \"P\", \"Alamat\" : \"Jakarta\", \"Divisi\" : \"Machinery\", \"Jabatan\" : \"Operator\", \"Gaji Pokok\" : \"5000000\"},]\n",
        "print(Data)"
      ]
    },
    {
      "cell_type": "markdown",
      "source": [
        "Slicing"
      ],
      "metadata": {
        "id": "PBoW_-mcQdYc"
      }
    },
    {
      "cell_type": "code",
      "source": [
        "import numpy as np\n",
        "A = np.array([[1,2], \n",
        "              [4,5], \n",
        "              [7,8]])\n",
        "print(A[2])"
      ],
      "metadata": {
        "colab": {
          "base_uri": "https://localhost:8080/"
        },
        "id": "RoQpVmcEQkem",
        "outputId": "32a0c6de-9a69-4cf6-de0d-7ac7ead1b852"
      },
      "execution_count": null,
      "outputs": [
        {
          "output_type": "stream",
          "name": "stdout",
          "text": [
            "[7 8]\n"
          ]
        }
      ]
    },
    {
      "cell_type": "code",
      "source": [
        "import numpy as np\n",
        "B = np.array([[1,6,9],\n",
        "             [2,5,8]])\n",
        "print(B[0,1], B[1,1])"
      ],
      "metadata": {
        "colab": {
          "base_uri": "https://localhost:8080/"
        },
        "id": "JZ6EFRKxeekw",
        "outputId": "33c936f7-8160-4d2c-ec7a-6cdb69d04005"
      },
      "execution_count": null,
      "outputs": [
        {
          "output_type": "stream",
          "name": "stdout",
          "text": [
            "6 5\n"
          ]
        }
      ]
    },
    {
      "cell_type": "code",
      "source": [
        "import numpy as np\n",
        "C = np.array ([[4,3,8],\n",
        "              [7,2,5],\n",
        "              [6,1,9]])\n",
        "print('a.', C[1,1], C[2,1])\n",
        "D = np.array([[4,3,8],\n",
        "             [7,2,5],\n",
        "              [6,1,9]])\n",
        "print('b.', D[0,1], D[0,2])"
      ],
      "metadata": {
        "colab": {
          "base_uri": "https://localhost:8080/"
        },
        "id": "PFkzDECddsMl",
        "outputId": "344a071c-b354-448c-c2bc-f34fda60ff57"
      },
      "execution_count": null,
      "outputs": [
        {
          "output_type": "stream",
          "name": "stdout",
          "text": [
            "a. 2 1\n",
            "b. 3 8\n"
          ]
        }
      ]
    },
    {
      "cell_type": "code",
      "source": [
        "import numpy as np\n",
        "E = np.array([[23,35,93,87],\n",
        "             [92,44,11,83],\n",
        "             [40,12,46,28],\n",
        "             [73,65,65,32]])\n",
        "print('a.', E[1,1], E[1,2], E[1,3])\n",
        "F = np.array([[23,35,93,87],\n",
        "              [2,44,11,83],\n",
        "              [40,12,46,28],\n",
        "              [73,67,65,32]])\n",
        "print('b.', F[2,1], F[2,2],\n",
        "      F[3,1], F[3,2])\n",
        "i = np.array([[23,35,93,87],\n",
        "              [92,44,11,83],\n",
        "              [40,12,46,28],\n",
        "              [73,67,65,32]])\n",
        "print('c.', i[1,1], i[1,2], i[1,3],\n",
        "      i[2,1], i[2,2], i[2,3],\n",
        "      i[3,1], i[3,2], i[3,3])\n",
        "\n",
        "j = np.array([[23,35,93,87],\n",
        "              [92,44,11,83],\n",
        "              [40,12,46,28],\n",
        "              [73,67,65,32]])\n",
        "print('d.', j[-3,0], j[1,1],\n",
        "      j[-2,0], j[-2,-3])\n",
        "k = np.array([[23,35,93,87],\n",
        "              [92,44,11,83],\n",
        "              [40,12,46,28],\n",
        "              [73,67,65,32]])\n",
        "print('e.', k[0,0], k[0,1], k[0,2],\n",
        "     k[-3,0], k[1,1], k[1,2])\n",
        "p = np.array([[23,35,93,87],\n",
        "              [92,44,11,83],\n",
        "              [40,12,46,28],\n",
        "              [73,67,65,32]])\n",
        "print('f.', p[1,1], p[-2,-3], p[3,1])"
      ],
      "metadata": {
        "colab": {
          "base_uri": "https://localhost:8080/"
        },
        "id": "f0NAvmJ_4Af4",
        "outputId": "2f15fb30-542e-455c-f1ce-adf57f1775bf"
      },
      "execution_count": null,
      "outputs": [
        {
          "output_type": "stream",
          "name": "stdout",
          "text": [
            "a. 44 11 83\n",
            "b. 12 46 67 65\n",
            "c. 44 11 83 12 46 28 67 65 32\n",
            "d. 92 44 40 12\n",
            "e. 23 35 93 92 44 11\n",
            "f. 44 12 67\n"
          ]
        }
      ]
    },
    {
      "cell_type": "markdown",
      "source": [],
      "metadata": {
        "id": "vXpiwWDqPU2T"
      }
    }
  ]
}